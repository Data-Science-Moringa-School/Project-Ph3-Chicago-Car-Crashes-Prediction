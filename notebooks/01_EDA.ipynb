{
 "cells": [
  {
   "cell_type": "markdown",
   "metadata": {},
   "source": [
    "### Data Loading\n"
   ]
  },
  {
   "cell_type": "markdown",
   "metadata": {},
   "source": [
    "#### Load datasets using the absolute paths"
   ]
  },
  {
   "cell_type": "code",
   "execution_count": 6,
   "metadata": {},
   "outputs": [
    {
     "name": "stderr",
     "output_type": "stream",
     "text": [
      "c:\\Users\\MNJOROGE16\\AppData\\Local\\anaconda3\\envs\\learn-env\\lib\\site-packages\\IPython\\core\\interactiveshell.py:3145: DtypeWarning: Columns (19,23,24,25,28) have mixed types.Specify dtype option on import or set low_memory=False.\n",
      "  has_raised = await self.run_ast_nodes(code_ast.body, cell_name,\n",
      "c:\\Users\\MNJOROGE16\\AppData\\Local\\anaconda3\\envs\\learn-env\\lib\\site-packages\\IPython\\core\\interactiveshell.py:3145: DtypeWarning: Columns (20,39,40,41,43,47,48,49,52,54,57,58,60,70) have mixed types.Specify dtype option on import or set low_memory=False.\n",
      "  has_raised = await self.run_ast_nodes(code_ast.body, cell_name,\n"
     ]
    },
    {
     "name": "stdout",
     "output_type": "stream",
     "text": [
      "(866411, 48)\n",
      "(1467049, 29)\n",
      "(1764900, 71)\n",
      "                                     CRASH_RECORD_ID CRASH_DATE_EST_I  \\\n",
      "0  23a79931ef555d54118f64dc9be2cf2dbf59636ce253f7...              NaN   \n",
      "1  2675c13fd0f474d730a5b780968b3cafc7c12d7adb661f...              NaN   \n",
      "2  5f54a59fcb087b12ae5b1acff96a3caf4f2d37e79f8db4...              NaN   \n",
      "3  7ebf015016f83d09b321afd671a836d6b148330535d5df...              NaN   \n",
      "4  6c1659069e9c6285a650e70d6f9b574ed5f64c12888479...              NaN   \n",
      "\n",
      "               CRASH_DATE  POSTED_SPEED_LIMIT TRAFFIC_CONTROL_DEVICE  \\\n",
      "0  09/05/2023 07:05:00 PM                  30         TRAFFIC SIGNAL   \n",
      "1  09/22/2023 06:45:00 PM                  50            NO CONTROLS   \n",
      "2  07/29/2023 02:45:00 PM                  30         TRAFFIC SIGNAL   \n",
      "3  08/09/2023 11:00:00 PM                  30            NO CONTROLS   \n",
      "4  08/18/2023 12:50:00 PM                  15                  OTHER   \n",
      "\n",
      "       DEVICE_CONDITION WEATHER_CONDITION      LIGHTING_CONDITION  \\\n",
      "0  FUNCTIONING PROPERLY             CLEAR                    DUSK   \n",
      "1           NO CONTROLS             CLEAR  DARKNESS, LIGHTED ROAD   \n",
      "2  FUNCTIONING PROPERLY             CLEAR                DAYLIGHT   \n",
      "3           NO CONTROLS             CLEAR  DARKNESS, LIGHTED ROAD   \n",
      "4  FUNCTIONING PROPERLY             CLEAR                DAYLIGHT   \n",
      "\n",
      "           FIRST_CRASH_TYPE                  TRAFFICWAY_TYPE  ...  \\\n",
      "0                     ANGLE              FIVE POINT, OR MORE  ...   \n",
      "1                  REAR END       DIVIDED - W/MEDIAN BARRIER  ...   \n",
      "2      PARKED MOTOR VEHICLE  DIVIDED - W/MEDIAN (NOT RAISED)  ...   \n",
      "3  SIDESWIPE SAME DIRECTION                      NOT DIVIDED  ...   \n",
      "4                  REAR END                            OTHER  ...   \n",
      "\n",
      "   INJURIES_NON_INCAPACITATING INJURIES_REPORTED_NOT_EVIDENT  \\\n",
      "0                          2.0                           0.0   \n",
      "1                          0.0                           0.0   \n",
      "2                          0.0                           0.0   \n",
      "3                          0.0                           0.0   \n",
      "4                          1.0                           0.0   \n",
      "\n",
      "  INJURIES_NO_INDICATION INJURIES_UNKNOWN CRASH_HOUR CRASH_DAY_OF_WEEK  \\\n",
      "0                    2.0              0.0         19                 3   \n",
      "1                    2.0              0.0         18                 6   \n",
      "2                    1.0              0.0         14                 7   \n",
      "3                    2.0              0.0         23                 4   \n",
      "4                    1.0              0.0         12                 6   \n",
      "\n",
      "  CRASH_MONTH  LATITUDE  LONGITUDE                                  LOCATION  \n",
      "0           9       NaN        NaN                                       NaN  \n",
      "1           9       NaN        NaN                                       NaN  \n",
      "2           7  41.85412 -87.665902  POINT (-87.665902342962 41.854120262952)  \n",
      "3           8       NaN        NaN                                       NaN  \n",
      "4           8       NaN        NaN                                       NaN  \n",
      "\n",
      "[5 rows x 48 columns]\n",
      "  PERSON_ID PERSON_TYPE                                    CRASH_RECORD_ID  \\\n",
      "0   O749947      DRIVER  81dc0de2ed92aa62baccab641fa377be7feb1cc47e6554...   \n",
      "1   O871921      DRIVER  af84fb5c8d996fcd3aefd36593c3a02e6e7509eeb27568...   \n",
      "2    O10018      DRIVER  71162af7bf22799b776547132ebf134b5b438dcf3dac6b...   \n",
      "3    O10038      DRIVER  c21c476e2ccc41af550b5d858d22aaac4ffc88745a1700...   \n",
      "4    O10039      DRIVER  eb390a4c8e114c69488f5fb8a097fe629f5a92fd528cf4...   \n",
      "\n",
      "   VEHICLE_ID              CRASH_DATE  SEAT_NO     CITY STATE ZIPCODE SEX  \\\n",
      "0    834816.0  09/28/2019 03:30:00 AM      NaN  CHICAGO    IL   60651   M   \n",
      "1    827212.0  04/13/2020 10:50:00 PM      NaN  CHICAGO    IL   60620   M   \n",
      "2      9579.0  11/01/2015 05:00:00 AM      NaN      NaN   NaN     NaN   X   \n",
      "3      9598.0  11/01/2015 08:00:00 AM      NaN      NaN   NaN     NaN   X   \n",
      "4      9600.0  11/01/2015 10:15:00 AM      NaN      NaN   NaN     NaN   X   \n",
      "\n",
      "   ...  EMS_RUN_NO     DRIVER_ACTION DRIVER_VISION PHYSICAL_CONDITION  \\\n",
      "0  ...         NaN           UNKNOWN       UNKNOWN            UNKNOWN   \n",
      "1  ...         NaN              NONE  NOT OBSCURED             NORMAL   \n",
      "2  ...         NaN  IMPROPER BACKING       UNKNOWN            UNKNOWN   \n",
      "3  ...         NaN           UNKNOWN       UNKNOWN            UNKNOWN   \n",
      "4  ...         NaN           UNKNOWN       UNKNOWN            UNKNOWN   \n",
      "\n",
      "  PEDPEDAL_ACTION PEDPEDAL_VISIBILITY PEDPEDAL_LOCATION        BAC_RESULT  \\\n",
      "0             NaN                 NaN               NaN  TEST NOT OFFERED   \n",
      "1             NaN                 NaN               NaN  TEST NOT OFFERED   \n",
      "2             NaN                 NaN               NaN  TEST NOT OFFERED   \n",
      "3             NaN                 NaN               NaN  TEST NOT OFFERED   \n",
      "4             NaN                 NaN               NaN  TEST NOT OFFERED   \n",
      "\n",
      "  BAC_RESULT VALUE CELL_PHONE_USE  \n",
      "0              NaN            NaN  \n",
      "1              NaN            NaN  \n",
      "2              NaN            NaN  \n",
      "3              NaN            NaN  \n",
      "4              NaN            NaN  \n",
      "\n",
      "[5 rows x 29 columns]\n",
      "   CRASH_UNIT_ID                                    CRASH_RECORD_ID  \\\n",
      "0        1727162  f5943b05f46b8d4148a63b7506a59113eae0cf1075aabc...   \n",
      "1        1717556  7b1763088507f77e0e552c009a6bf89a4d6330c7527706...   \n",
      "2        1717574  2603ff5a88f0b9b54576934c5ed4e4a64e8278e005687b...   \n",
      "3        1717579  a52ef70e33d468b855b5be44e8638a564434dcf99c0edf...   \n",
      "4        1720118  609055f4b1a72a44d6ec40ba9036cefd7c1287a755eb6c...   \n",
      "\n",
      "               CRASH_DATE  UNIT_NO   UNIT_TYPE  NUM_PASSENGERS  VEHICLE_ID  \\\n",
      "0  12/21/2023 08:57:00 AM        2  PEDESTRIAN             NaN         NaN   \n",
      "1  12/06/2023 03:24:00 PM        1      DRIVER             NaN   1634931.0   \n",
      "2  12/06/2023 04:00:00 PM        2      DRIVER             NaN   1634978.0   \n",
      "3  12/06/2023 04:30:00 PM        1      DRIVER             NaN   1634948.0   \n",
      "4  12/10/2023 12:12:00 PM        1      DRIVER             NaN   1637401.0   \n",
      "\n",
      "  CMRC_VEH_I      MAKE    MODEL  ... TRAILER1_LENGTH  TRAILER2_LENGTH  \\\n",
      "0        NaN       NaN      NaN  ...             NaN              NaN   \n",
      "1        NaN    NISSAN   SENTRA  ...             NaN              NaN   \n",
      "2        NaN  CHRYSLER  SEBRING  ...             NaN              NaN   \n",
      "3        NaN    SUBARU  OUTBACK  ...             NaN              NaN   \n",
      "4        NaN    TOYOTA     RAV4  ...             NaN              NaN   \n",
      "\n",
      "  TOTAL_VEHICLE_LENGTH AXLE_CNT VEHICLE_CONFIG CARGO_BODY_TYPE LOAD_TYPE  \\\n",
      "0                  NaN      NaN            NaN             NaN       NaN   \n",
      "1                  NaN      NaN            NaN             NaN       NaN   \n",
      "2                  NaN      NaN            NaN             NaN       NaN   \n",
      "3                  NaN      NaN            NaN             NaN       NaN   \n",
      "4                  NaN      NaN            NaN             NaN       NaN   \n",
      "\n",
      "  HAZMAT_OUT_OF_SERVICE_I MCS_OUT_OF_SERVICE_I  HAZMAT_CLASS  \n",
      "0                     NaN                  NaN           NaN  \n",
      "1                     NaN                  NaN           NaN  \n",
      "2                     NaN                  NaN           NaN  \n",
      "3                     NaN                  NaN           NaN  \n",
      "4                     NaN                  NaN           NaN  \n",
      "\n",
      "[5 rows x 71 columns]\n"
     ]
    }
   ],
   "source": [
    "import pandas as pd\n",
    "\n",
    "# Load datasets\n",
    "crashes = pd.read_csv('C:/Users/MNJOROGE16/Desktop/Moringa/phase_3/project__phase3/Project-Ph3-Chicago-Car-Crashes-Prediction/data/raw_data/Traffic_Crashes_-_Crashes_20240826.csv')\n",
    "people = pd.read_csv('C:/Users/MNJOROGE16/Desktop/Moringa/phase_3/project__phase3/Project-Ph3-Chicago-Car-Crashes-Prediction/data/raw_data/Traffic_Crashes_-_People_20240826.csv')\n",
    "vehicles = pd.read_csv('C:/Users/MNJOROGE16/Desktop/Moringa/phase_3/project__phase3/Project-Ph3-Chicago-Car-Crashes-Prediction/data/raw_data/Traffic_Crashes_-_Vehicles_20240821.csv')\n",
    "\n",
    "\n"
   ]
  },
  {
   "cell_type": "markdown",
   "metadata": {},
   "source": [
    "### Data Inspection"
   ]
  },
  {
   "cell_type": "markdown",
   "metadata": {},
   "source": [
    "#### Reviewing each dataset structure (rows, columns)"
   ]
  },
  {
   "cell_type": "code",
   "execution_count": 7,
   "metadata": {},
   "outputs": [
    {
     "name": "stdout",
     "output_type": "stream",
     "text": [
      "(866411, 48)\n"
     ]
    }
   ],
   "source": [
    "\n",
    "print(crashes.shape) "
   ]
  },
  {
   "cell_type": "code",
   "execution_count": 8,
   "metadata": {},
   "outputs": [
    {
     "name": "stdout",
     "output_type": "stream",
     "text": [
      "(1467049, 29)\n"
     ]
    }
   ],
   "source": [
    "\n",
    "print(people.shape)\n"
   ]
  },
  {
   "cell_type": "code",
   "execution_count": 9,
   "metadata": {},
   "outputs": [
    {
     "name": "stdout",
     "output_type": "stream",
     "text": [
      "(1764900, 71)\n"
     ]
    }
   ],
   "source": [
    "print(vehicles.shape)"
   ]
  },
  {
   "cell_type": "markdown",
   "metadata": {},
   "source": [
    "#### Inspecting the first few rows of each data set \n",
    "\n",
    "This is to confirm data is loaded correctly"
   ]
  },
  {
   "cell_type": "code",
   "execution_count": 10,
   "metadata": {},
   "outputs": [
    {
     "name": "stdout",
     "output_type": "stream",
     "text": [
      "                                     CRASH_RECORD_ID CRASH_DATE_EST_I  \\\n",
      "0  23a79931ef555d54118f64dc9be2cf2dbf59636ce253f7...              NaN   \n",
      "1  2675c13fd0f474d730a5b780968b3cafc7c12d7adb661f...              NaN   \n",
      "2  5f54a59fcb087b12ae5b1acff96a3caf4f2d37e79f8db4...              NaN   \n",
      "3  7ebf015016f83d09b321afd671a836d6b148330535d5df...              NaN   \n",
      "4  6c1659069e9c6285a650e70d6f9b574ed5f64c12888479...              NaN   \n",
      "\n",
      "               CRASH_DATE  POSTED_SPEED_LIMIT TRAFFIC_CONTROL_DEVICE  \\\n",
      "0  09/05/2023 07:05:00 PM                  30         TRAFFIC SIGNAL   \n",
      "1  09/22/2023 06:45:00 PM                  50            NO CONTROLS   \n",
      "2  07/29/2023 02:45:00 PM                  30         TRAFFIC SIGNAL   \n",
      "3  08/09/2023 11:00:00 PM                  30            NO CONTROLS   \n",
      "4  08/18/2023 12:50:00 PM                  15                  OTHER   \n",
      "\n",
      "       DEVICE_CONDITION WEATHER_CONDITION      LIGHTING_CONDITION  \\\n",
      "0  FUNCTIONING PROPERLY             CLEAR                    DUSK   \n",
      "1           NO CONTROLS             CLEAR  DARKNESS, LIGHTED ROAD   \n",
      "2  FUNCTIONING PROPERLY             CLEAR                DAYLIGHT   \n",
      "3           NO CONTROLS             CLEAR  DARKNESS, LIGHTED ROAD   \n",
      "4  FUNCTIONING PROPERLY             CLEAR                DAYLIGHT   \n",
      "\n",
      "           FIRST_CRASH_TYPE                  TRAFFICWAY_TYPE  ...  \\\n",
      "0                     ANGLE              FIVE POINT, OR MORE  ...   \n",
      "1                  REAR END       DIVIDED - W/MEDIAN BARRIER  ...   \n",
      "2      PARKED MOTOR VEHICLE  DIVIDED - W/MEDIAN (NOT RAISED)  ...   \n",
      "3  SIDESWIPE SAME DIRECTION                      NOT DIVIDED  ...   \n",
      "4                  REAR END                            OTHER  ...   \n",
      "\n",
      "   INJURIES_NON_INCAPACITATING INJURIES_REPORTED_NOT_EVIDENT  \\\n",
      "0                          2.0                           0.0   \n",
      "1                          0.0                           0.0   \n",
      "2                          0.0                           0.0   \n",
      "3                          0.0                           0.0   \n",
      "4                          1.0                           0.0   \n",
      "\n",
      "  INJURIES_NO_INDICATION INJURIES_UNKNOWN CRASH_HOUR CRASH_DAY_OF_WEEK  \\\n",
      "0                    2.0              0.0         19                 3   \n",
      "1                    2.0              0.0         18                 6   \n",
      "2                    1.0              0.0         14                 7   \n",
      "3                    2.0              0.0         23                 4   \n",
      "4                    1.0              0.0         12                 6   \n",
      "\n",
      "  CRASH_MONTH  LATITUDE  LONGITUDE                                  LOCATION  \n",
      "0           9       NaN        NaN                                       NaN  \n",
      "1           9       NaN        NaN                                       NaN  \n",
      "2           7  41.85412 -87.665902  POINT (-87.665902342962 41.854120262952)  \n",
      "3           8       NaN        NaN                                       NaN  \n",
      "4           8       NaN        NaN                                       NaN  \n",
      "\n",
      "[5 rows x 48 columns]\n"
     ]
    }
   ],
   "source": [
    "print(crashes.head())"
   ]
  },
  {
   "cell_type": "code",
   "execution_count": 11,
   "metadata": {},
   "outputs": [
    {
     "name": "stdout",
     "output_type": "stream",
     "text": [
      "  PERSON_ID PERSON_TYPE                                    CRASH_RECORD_ID  \\\n",
      "0   O749947      DRIVER  81dc0de2ed92aa62baccab641fa377be7feb1cc47e6554...   \n",
      "1   O871921      DRIVER  af84fb5c8d996fcd3aefd36593c3a02e6e7509eeb27568...   \n",
      "2    O10018      DRIVER  71162af7bf22799b776547132ebf134b5b438dcf3dac6b...   \n",
      "3    O10038      DRIVER  c21c476e2ccc41af550b5d858d22aaac4ffc88745a1700...   \n",
      "4    O10039      DRIVER  eb390a4c8e114c69488f5fb8a097fe629f5a92fd528cf4...   \n",
      "\n",
      "   VEHICLE_ID              CRASH_DATE  SEAT_NO     CITY STATE ZIPCODE SEX  \\\n",
      "0    834816.0  09/28/2019 03:30:00 AM      NaN  CHICAGO    IL   60651   M   \n",
      "1    827212.0  04/13/2020 10:50:00 PM      NaN  CHICAGO    IL   60620   M   \n",
      "2      9579.0  11/01/2015 05:00:00 AM      NaN      NaN   NaN     NaN   X   \n",
      "3      9598.0  11/01/2015 08:00:00 AM      NaN      NaN   NaN     NaN   X   \n",
      "4      9600.0  11/01/2015 10:15:00 AM      NaN      NaN   NaN     NaN   X   \n",
      "\n",
      "   ...  EMS_RUN_NO     DRIVER_ACTION DRIVER_VISION PHYSICAL_CONDITION  \\\n",
      "0  ...         NaN           UNKNOWN       UNKNOWN            UNKNOWN   \n",
      "1  ...         NaN              NONE  NOT OBSCURED             NORMAL   \n",
      "2  ...         NaN  IMPROPER BACKING       UNKNOWN            UNKNOWN   \n",
      "3  ...         NaN           UNKNOWN       UNKNOWN            UNKNOWN   \n",
      "4  ...         NaN           UNKNOWN       UNKNOWN            UNKNOWN   \n",
      "\n",
      "  PEDPEDAL_ACTION PEDPEDAL_VISIBILITY PEDPEDAL_LOCATION        BAC_RESULT  \\\n",
      "0             NaN                 NaN               NaN  TEST NOT OFFERED   \n",
      "1             NaN                 NaN               NaN  TEST NOT OFFERED   \n",
      "2             NaN                 NaN               NaN  TEST NOT OFFERED   \n",
      "3             NaN                 NaN               NaN  TEST NOT OFFERED   \n",
      "4             NaN                 NaN               NaN  TEST NOT OFFERED   \n",
      "\n",
      "  BAC_RESULT VALUE CELL_PHONE_USE  \n",
      "0              NaN            NaN  \n",
      "1              NaN            NaN  \n",
      "2              NaN            NaN  \n",
      "3              NaN            NaN  \n",
      "4              NaN            NaN  \n",
      "\n",
      "[5 rows x 29 columns]\n"
     ]
    }
   ],
   "source": [
    "print(people.head())"
   ]
  },
  {
   "cell_type": "code",
   "execution_count": 12,
   "metadata": {},
   "outputs": [
    {
     "name": "stdout",
     "output_type": "stream",
     "text": [
      "   CRASH_UNIT_ID                                    CRASH_RECORD_ID  \\\n",
      "0        1727162  f5943b05f46b8d4148a63b7506a59113eae0cf1075aabc...   \n",
      "1        1717556  7b1763088507f77e0e552c009a6bf89a4d6330c7527706...   \n",
      "2        1717574  2603ff5a88f0b9b54576934c5ed4e4a64e8278e005687b...   \n",
      "3        1717579  a52ef70e33d468b855b5be44e8638a564434dcf99c0edf...   \n",
      "4        1720118  609055f4b1a72a44d6ec40ba9036cefd7c1287a755eb6c...   \n",
      "\n",
      "               CRASH_DATE  UNIT_NO   UNIT_TYPE  NUM_PASSENGERS  VEHICLE_ID  \\\n",
      "0  12/21/2023 08:57:00 AM        2  PEDESTRIAN             NaN         NaN   \n",
      "1  12/06/2023 03:24:00 PM        1      DRIVER             NaN   1634931.0   \n",
      "2  12/06/2023 04:00:00 PM        2      DRIVER             NaN   1634978.0   \n",
      "3  12/06/2023 04:30:00 PM        1      DRIVER             NaN   1634948.0   \n",
      "4  12/10/2023 12:12:00 PM        1      DRIVER             NaN   1637401.0   \n",
      "\n",
      "  CMRC_VEH_I      MAKE    MODEL  ... TRAILER1_LENGTH  TRAILER2_LENGTH  \\\n",
      "0        NaN       NaN      NaN  ...             NaN              NaN   \n",
      "1        NaN    NISSAN   SENTRA  ...             NaN              NaN   \n",
      "2        NaN  CHRYSLER  SEBRING  ...             NaN              NaN   \n",
      "3        NaN    SUBARU  OUTBACK  ...             NaN              NaN   \n",
      "4        NaN    TOYOTA     RAV4  ...             NaN              NaN   \n",
      "\n",
      "  TOTAL_VEHICLE_LENGTH AXLE_CNT VEHICLE_CONFIG CARGO_BODY_TYPE LOAD_TYPE  \\\n",
      "0                  NaN      NaN            NaN             NaN       NaN   \n",
      "1                  NaN      NaN            NaN             NaN       NaN   \n",
      "2                  NaN      NaN            NaN             NaN       NaN   \n",
      "3                  NaN      NaN            NaN             NaN       NaN   \n",
      "4                  NaN      NaN            NaN             NaN       NaN   \n",
      "\n",
      "  HAZMAT_OUT_OF_SERVICE_I MCS_OUT_OF_SERVICE_I  HAZMAT_CLASS  \n",
      "0                     NaN                  NaN           NaN  \n",
      "1                     NaN                  NaN           NaN  \n",
      "2                     NaN                  NaN           NaN  \n",
      "3                     NaN                  NaN           NaN  \n",
      "4                     NaN                  NaN           NaN  \n",
      "\n",
      "[5 rows x 71 columns]\n"
     ]
    }
   ],
   "source": [
    "print(vehicles.head())"
   ]
  },
  {
   "cell_type": "markdown",
   "metadata": {},
   "source": [
    "#### Inspecting Column Names"
   ]
  },
  {
   "cell_type": "code",
   "execution_count": 13,
   "metadata": {},
   "outputs": [
    {
     "name": "stdout",
     "output_type": "stream",
     "text": [
      "Index(['CRASH_RECORD_ID', 'CRASH_DATE_EST_I', 'CRASH_DATE',\n",
      "       'POSTED_SPEED_LIMIT', 'TRAFFIC_CONTROL_DEVICE', 'DEVICE_CONDITION',\n",
      "       'WEATHER_CONDITION', 'LIGHTING_CONDITION', 'FIRST_CRASH_TYPE',\n",
      "       'TRAFFICWAY_TYPE', 'LANE_CNT', 'ALIGNMENT', 'ROADWAY_SURFACE_COND',\n",
      "       'ROAD_DEFECT', 'REPORT_TYPE', 'CRASH_TYPE', 'INTERSECTION_RELATED_I',\n",
      "       'NOT_RIGHT_OF_WAY_I', 'HIT_AND_RUN_I', 'DAMAGE', 'DATE_POLICE_NOTIFIED',\n",
      "       'PRIM_CONTRIBUTORY_CAUSE', 'SEC_CONTRIBUTORY_CAUSE', 'STREET_NO',\n",
      "       'STREET_DIRECTION', 'STREET_NAME', 'BEAT_OF_OCCURRENCE',\n",
      "       'PHOTOS_TAKEN_I', 'STATEMENTS_TAKEN_I', 'DOORING_I', 'WORK_ZONE_I',\n",
      "       'WORK_ZONE_TYPE', 'WORKERS_PRESENT_I', 'NUM_UNITS',\n",
      "       'MOST_SEVERE_INJURY', 'INJURIES_TOTAL', 'INJURIES_FATAL',\n",
      "       'INJURIES_INCAPACITATING', 'INJURIES_NON_INCAPACITATING',\n",
      "       'INJURIES_REPORTED_NOT_EVIDENT', 'INJURIES_NO_INDICATION',\n",
      "       'INJURIES_UNKNOWN', 'CRASH_HOUR', 'CRASH_DAY_OF_WEEK', 'CRASH_MONTH',\n",
      "       'LATITUDE', 'LONGITUDE', 'LOCATION'],\n",
      "      dtype='object')\n"
     ]
    }
   ],
   "source": [
    "print(crashes.columns)"
   ]
  },
  {
   "cell_type": "code",
   "execution_count": 14,
   "metadata": {},
   "outputs": [
    {
     "name": "stdout",
     "output_type": "stream",
     "text": [
      "Index(['PERSON_ID', 'PERSON_TYPE', 'CRASH_RECORD_ID', 'VEHICLE_ID',\n",
      "       'CRASH_DATE', 'SEAT_NO', 'CITY', 'STATE', 'ZIPCODE', 'SEX', 'AGE',\n",
      "       'DRIVERS_LICENSE_STATE', 'DRIVERS_LICENSE_CLASS', 'SAFETY_EQUIPMENT',\n",
      "       'AIRBAG_DEPLOYED', 'EJECTION', 'INJURY_CLASSIFICATION', 'HOSPITAL',\n",
      "       'EMS_AGENCY', 'EMS_RUN_NO', 'DRIVER_ACTION', 'DRIVER_VISION',\n",
      "       'PHYSICAL_CONDITION', 'PEDPEDAL_ACTION', 'PEDPEDAL_VISIBILITY',\n",
      "       'PEDPEDAL_LOCATION', 'BAC_RESULT', 'BAC_RESULT VALUE',\n",
      "       'CELL_PHONE_USE'],\n",
      "      dtype='object')\n"
     ]
    }
   ],
   "source": [
    "print(people.columns)"
   ]
  },
  {
   "cell_type": "code",
   "execution_count": 15,
   "metadata": {},
   "outputs": [
    {
     "name": "stdout",
     "output_type": "stream",
     "text": [
      "Index(['CRASH_UNIT_ID', 'CRASH_RECORD_ID', 'CRASH_DATE', 'UNIT_NO',\n",
      "       'UNIT_TYPE', 'NUM_PASSENGERS', 'VEHICLE_ID', 'CMRC_VEH_I', 'MAKE',\n",
      "       'MODEL', 'LIC_PLATE_STATE', 'VEHICLE_YEAR', 'VEHICLE_DEFECT',\n",
      "       'VEHICLE_TYPE', 'VEHICLE_USE', 'TRAVEL_DIRECTION', 'MANEUVER',\n",
      "       'TOWED_I', 'FIRE_I', 'OCCUPANT_CNT', 'EXCEED_SPEED_LIMIT_I', 'TOWED_BY',\n",
      "       'TOWED_TO', 'AREA_00_I', 'AREA_01_I', 'AREA_02_I', 'AREA_03_I',\n",
      "       'AREA_04_I', 'AREA_05_I', 'AREA_06_I', 'AREA_07_I', 'AREA_08_I',\n",
      "       'AREA_09_I', 'AREA_10_I', 'AREA_11_I', 'AREA_12_I', 'AREA_99_I',\n",
      "       'FIRST_CONTACT_POINT', 'CMV_ID', 'USDOT_NO', 'CCMC_NO', 'ILCC_NO',\n",
      "       'COMMERCIAL_SRC', 'GVWR', 'CARRIER_NAME', 'CARRIER_STATE',\n",
      "       'CARRIER_CITY', 'HAZMAT_PLACARDS_I', 'HAZMAT_NAME', 'UN_NO',\n",
      "       'HAZMAT_PRESENT_I', 'HAZMAT_REPORT_I', 'HAZMAT_REPORT_NO',\n",
      "       'MCS_REPORT_I', 'MCS_REPORT_NO', 'HAZMAT_VIO_CAUSE_CRASH_I',\n",
      "       'MCS_VIO_CAUSE_CRASH_I', 'IDOT_PERMIT_NO', 'WIDE_LOAD_I',\n",
      "       'TRAILER1_WIDTH', 'TRAILER2_WIDTH', 'TRAILER1_LENGTH',\n",
      "       'TRAILER2_LENGTH', 'TOTAL_VEHICLE_LENGTH', 'AXLE_CNT', 'VEHICLE_CONFIG',\n",
      "       'CARGO_BODY_TYPE', 'LOAD_TYPE', 'HAZMAT_OUT_OF_SERVICE_I',\n",
      "       'MCS_OUT_OF_SERVICE_I', 'HAZMAT_CLASS'],\n",
      "      dtype='object')\n"
     ]
    }
   ],
   "source": [
    "print(vehicles.columns)"
   ]
  },
  {
   "cell_type": "markdown",
   "metadata": {},
   "source": [
    "### Data Types and Schema"
   ]
  },
  {
   "cell_type": "code",
   "execution_count": 16,
   "metadata": {},
   "outputs": [
    {
     "name": "stdout",
     "output_type": "stream",
     "text": [
      "CRASH_RECORD_ID                   object\n",
      "CRASH_DATE_EST_I                  object\n",
      "CRASH_DATE                        object\n",
      "POSTED_SPEED_LIMIT                 int64\n",
      "TRAFFIC_CONTROL_DEVICE            object\n",
      "DEVICE_CONDITION                  object\n",
      "WEATHER_CONDITION                 object\n",
      "LIGHTING_CONDITION                object\n",
      "FIRST_CRASH_TYPE                  object\n",
      "TRAFFICWAY_TYPE                   object\n",
      "LANE_CNT                         float64\n",
      "ALIGNMENT                         object\n",
      "ROADWAY_SURFACE_COND              object\n",
      "ROAD_DEFECT                       object\n",
      "REPORT_TYPE                       object\n",
      "CRASH_TYPE                        object\n",
      "INTERSECTION_RELATED_I            object\n",
      "NOT_RIGHT_OF_WAY_I                object\n",
      "HIT_AND_RUN_I                     object\n",
      "DAMAGE                            object\n",
      "DATE_POLICE_NOTIFIED              object\n",
      "PRIM_CONTRIBUTORY_CAUSE           object\n",
      "SEC_CONTRIBUTORY_CAUSE            object\n",
      "STREET_NO                          int64\n",
      "STREET_DIRECTION                  object\n",
      "STREET_NAME                       object\n",
      "BEAT_OF_OCCURRENCE               float64\n",
      "PHOTOS_TAKEN_I                    object\n",
      "STATEMENTS_TAKEN_I                object\n",
      "DOORING_I                         object\n",
      "WORK_ZONE_I                       object\n",
      "WORK_ZONE_TYPE                    object\n",
      "WORKERS_PRESENT_I                 object\n",
      "NUM_UNITS                          int64\n",
      "MOST_SEVERE_INJURY                object\n",
      "INJURIES_TOTAL                   float64\n",
      "INJURIES_FATAL                   float64\n",
      "INJURIES_INCAPACITATING          float64\n",
      "INJURIES_NON_INCAPACITATING      float64\n",
      "INJURIES_REPORTED_NOT_EVIDENT    float64\n",
      "INJURIES_NO_INDICATION           float64\n",
      "INJURIES_UNKNOWN                 float64\n",
      "CRASH_HOUR                         int64\n",
      "CRASH_DAY_OF_WEEK                  int64\n",
      "CRASH_MONTH                        int64\n",
      "LATITUDE                         float64\n",
      "LONGITUDE                        float64\n",
      "LOCATION                          object\n",
      "dtype: object\n"
     ]
    }
   ],
   "source": [
    "# Check data types of each dataset\n",
    "print(crashes.dtypes)\n",
    "\n",
    "\n",
    "# Identify any incorrect data types (e.g., numeric columns read as objects)"
   ]
  },
  {
   "cell_type": "code",
   "execution_count": 17,
   "metadata": {},
   "outputs": [
    {
     "name": "stdout",
     "output_type": "stream",
     "text": [
      "PERSON_ID                 object\n",
      "PERSON_TYPE               object\n",
      "CRASH_RECORD_ID           object\n",
      "VEHICLE_ID               float64\n",
      "CRASH_DATE                object\n",
      "SEAT_NO                  float64\n",
      "CITY                      object\n",
      "STATE                     object\n",
      "ZIPCODE                   object\n",
      "SEX                       object\n",
      "AGE                      float64\n",
      "DRIVERS_LICENSE_STATE     object\n",
      "DRIVERS_LICENSE_CLASS     object\n",
      "SAFETY_EQUIPMENT          object\n",
      "AIRBAG_DEPLOYED           object\n",
      "EJECTION                  object\n",
      "INJURY_CLASSIFICATION     object\n",
      "HOSPITAL                  object\n",
      "EMS_AGENCY                object\n",
      "EMS_RUN_NO                object\n",
      "DRIVER_ACTION             object\n",
      "DRIVER_VISION             object\n",
      "PHYSICAL_CONDITION        object\n",
      "PEDPEDAL_ACTION           object\n",
      "PEDPEDAL_VISIBILITY       object\n",
      "PEDPEDAL_LOCATION         object\n",
      "BAC_RESULT                object\n",
      "BAC_RESULT VALUE         float64\n",
      "CELL_PHONE_USE            object\n",
      "dtype: object\n"
     ]
    }
   ],
   "source": [
    "print(people.dtypes)\n"
   ]
  },
  {
   "cell_type": "code",
   "execution_count": 18,
   "metadata": {},
   "outputs": [
    {
     "name": "stdout",
     "output_type": "stream",
     "text": [
      "CRASH_UNIT_ID               int64\n",
      "CRASH_RECORD_ID            object\n",
      "CRASH_DATE                 object\n",
      "UNIT_NO                     int64\n",
      "UNIT_TYPE                  object\n",
      "                            ...  \n",
      "CARGO_BODY_TYPE            object\n",
      "LOAD_TYPE                  object\n",
      "HAZMAT_OUT_OF_SERVICE_I    object\n",
      "MCS_OUT_OF_SERVICE_I       object\n",
      "HAZMAT_CLASS               object\n",
      "Length: 71, dtype: object\n"
     ]
    }
   ],
   "source": [
    "print(vehicles.dtypes)"
   ]
  },
  {
   "cell_type": "markdown",
   "metadata": {},
   "source": [
    "### Missing Values\n",
    "\n",
    "Objective: Identify missing data and assess the percentage of missing values per feature."
   ]
  },
  {
   "cell_type": "markdown",
   "metadata": {},
   "source": [
    "#### Identfying Missing Values"
   ]
  },
  {
   "cell_type": "code",
   "execution_count": 20,
   "metadata": {},
   "outputs": [
    {
     "name": "stdout",
     "output_type": "stream",
     "text": [
      "CRASH_RECORD_ID                       0\n",
      "CRASH_DATE_EST_I                 802055\n",
      "CRASH_DATE                            0\n",
      "POSTED_SPEED_LIMIT                    0\n",
      "TRAFFIC_CONTROL_DEVICE                0\n",
      "DEVICE_CONDITION                      0\n",
      "WEATHER_CONDITION                     0\n",
      "LIGHTING_CONDITION                    0\n",
      "FIRST_CRASH_TYPE                      0\n",
      "TRAFFICWAY_TYPE                       0\n",
      "LANE_CNT                         667396\n",
      "ALIGNMENT                             0\n",
      "ROADWAY_SURFACE_COND                  0\n",
      "ROAD_DEFECT                           0\n",
      "REPORT_TYPE                       26403\n",
      "CRASH_TYPE                            0\n",
      "INTERSECTION_RELATED_I           667808\n",
      "NOT_RIGHT_OF_WAY_I               826744\n",
      "HIT_AND_RUN_I                    594832\n",
      "DAMAGE                                0\n",
      "DATE_POLICE_NOTIFIED                  0\n",
      "PRIM_CONTRIBUTORY_CAUSE               0\n",
      "SEC_CONTRIBUTORY_CAUSE                0\n",
      "STREET_NO                             0\n",
      "STREET_DIRECTION                      4\n",
      "STREET_NAME                           1\n",
      "BEAT_OF_OCCURRENCE                    5\n",
      "PHOTOS_TAKEN_I                   854736\n",
      "STATEMENTS_TAKEN_I               846649\n",
      "DOORING_I                        863692\n",
      "WORK_ZONE_I                      861513\n",
      "WORK_ZONE_TYPE                   862631\n",
      "WORKERS_PRESENT_I                865156\n",
      "NUM_UNITS                             0\n",
      "MOST_SEVERE_INJURY                 1916\n",
      "INJURIES_TOTAL                     1903\n",
      "INJURIES_FATAL                     1903\n",
      "INJURIES_INCAPACITATING            1903\n",
      "INJURIES_NON_INCAPACITATING        1903\n",
      "INJURIES_REPORTED_NOT_EVIDENT      1903\n",
      "INJURIES_NO_INDICATION             1903\n",
      "INJURIES_UNKNOWN                   1903\n",
      "CRASH_HOUR                            0\n",
      "CRASH_DAY_OF_WEEK                     0\n",
      "CRASH_MONTH                           0\n",
      "LATITUDE                           6138\n",
      "LONGITUDE                          6138\n",
      "LOCATION                           6138\n",
      "dtype: int64\n"
     ]
    }
   ],
   "source": [
    "# Identify missing values\n",
    "print(crashes.isnull().sum())"
   ]
  },
  {
   "cell_type": "code",
   "execution_count": 21,
   "metadata": {},
   "outputs": [
    {
     "name": "stdout",
     "output_type": "stream",
     "text": [
      "PERSON_ID                      0\n",
      "PERSON_TYPE                    4\n",
      "CRASH_RECORD_ID                4\n",
      "VEHICLE_ID                 28804\n",
      "CRASH_DATE                     5\n",
      "SEAT_NO                  1167917\n",
      "CITY                      395404\n",
      "STATE                     381164\n",
      "ZIPCODE                   487700\n",
      "SEX                        22984\n",
      "AGE                       426196\n",
      "DRIVERS_LICENSE_STATE     605557\n",
      "DRIVERS_LICENSE_CLASS     736377\n",
      "SAFETY_EQUIPMENT            4149\n",
      "AIRBAG_DEPLOYED            27652\n",
      "EJECTION                   17696\n",
      "INJURY_CLASSIFICATION        644\n",
      "HOSPITAL                 1212552\n",
      "EMS_AGENCY               1308279\n",
      "EMS_RUN_NO               1440923\n",
      "DRIVER_ACTION             301796\n",
      "DRIVER_VISION             302212\n",
      "PHYSICAL_CONDITION        300982\n",
      "PEDPEDAL_ACTION          1439792\n",
      "PEDPEDAL_VISIBILITY      1439851\n",
      "PEDPEDAL_LOCATION        1439797\n",
      "BAC_RESULT                300779\n",
      "BAC_RESULT VALUE         1465274\n",
      "CELL_PHONE_USE           1465892\n",
      "dtype: int64\n"
     ]
    }
   ],
   "source": [
    "print(people.isnull().sum())\n"
   ]
  },
  {
   "cell_type": "code",
   "execution_count": 22,
   "metadata": {},
   "outputs": [
    {
     "name": "stdout",
     "output_type": "stream",
     "text": [
      "CRASH_UNIT_ID                    0\n",
      "CRASH_RECORD_ID                  0\n",
      "CRASH_DATE                       0\n",
      "UNIT_NO                          0\n",
      "UNIT_TYPE                     2209\n",
      "                            ...   \n",
      "CARGO_BODY_TYPE            1750780\n",
      "LOAD_TYPE                  1751403\n",
      "HAZMAT_OUT_OF_SERVICE_I    1752567\n",
      "MCS_OUT_OF_SERVICE_I       1752327\n",
      "HAZMAT_CLASS               1763763\n",
      "Length: 71, dtype: int64\n"
     ]
    }
   ],
   "source": [
    "print(vehicles.isnull().sum())"
   ]
  },
  {
   "cell_type": "markdown",
   "metadata": {},
   "source": [
    "#### Calculate the percentage of missing values\n"
   ]
  },
  {
   "cell_type": "code",
   "execution_count": 23,
   "metadata": {},
   "outputs": [
    {
     "name": "stdout",
     "output_type": "stream",
     "text": [
      "Crashes Missing Data Percentage:\n",
      " CRASH_RECORD_ID                   0.000000\n",
      "CRASH_DATE_EST_I                 92.572116\n",
      "CRASH_DATE                        0.000000\n",
      "POSTED_SPEED_LIMIT                0.000000\n",
      "TRAFFIC_CONTROL_DEVICE            0.000000\n",
      "DEVICE_CONDITION                  0.000000\n",
      "WEATHER_CONDITION                 0.000000\n",
      "LIGHTING_CONDITION                0.000000\n",
      "FIRST_CRASH_TYPE                  0.000000\n",
      "TRAFFICWAY_TYPE                   0.000000\n",
      "LANE_CNT                         77.029955\n",
      "ALIGNMENT                         0.000000\n",
      "ROADWAY_SURFACE_COND              0.000000\n",
      "ROAD_DEFECT                       0.000000\n",
      "REPORT_TYPE                       3.047399\n",
      "CRASH_TYPE                        0.000000\n",
      "INTERSECTION_RELATED_I           77.077507\n",
      "NOT_RIGHT_OF_WAY_I               95.421688\n",
      "HIT_AND_RUN_I                    68.654715\n",
      "DAMAGE                            0.000000\n",
      "DATE_POLICE_NOTIFIED              0.000000\n",
      "PRIM_CONTRIBUTORY_CAUSE           0.000000\n",
      "SEC_CONTRIBUTORY_CAUSE            0.000000\n",
      "STREET_NO                         0.000000\n",
      "STREET_DIRECTION                  0.000462\n",
      "STREET_NAME                       0.000115\n",
      "BEAT_OF_OCCURRENCE                0.000577\n",
      "PHOTOS_TAKEN_I                   98.652487\n",
      "STATEMENTS_TAKEN_I               97.719096\n",
      "DOORING_I                        99.686177\n",
      "WORK_ZONE_I                      99.434679\n",
      "WORK_ZONE_TYPE                   99.563717\n",
      "WORKERS_PRESENT_I                99.855150\n",
      "NUM_UNITS                         0.000000\n",
      "MOST_SEVERE_INJURY                0.221142\n",
      "INJURIES_TOTAL                    0.219642\n",
      "INJURIES_FATAL                    0.219642\n",
      "INJURIES_INCAPACITATING           0.219642\n",
      "INJURIES_NON_INCAPACITATING       0.219642\n",
      "INJURIES_REPORTED_NOT_EVIDENT     0.219642\n",
      "INJURIES_NO_INDICATION            0.219642\n",
      "INJURIES_UNKNOWN                  0.219642\n",
      "CRASH_HOUR                        0.000000\n",
      "CRASH_DAY_OF_WEEK                 0.000000\n",
      "CRASH_MONTH                       0.000000\n",
      "LATITUDE                          0.708440\n",
      "LONGITUDE                         0.708440\n",
      "LOCATION                          0.708440\n",
      "dtype: float64\n"
     ]
    }
   ],
   "source": [
    "crashes_missing_percentage = (crashes.isnull().sum() / len(crashes)) * 100\n",
    "print(\"Crashes Missing Data Percentage:\\n\", crashes_missing_percentage)\n",
    "\n"
   ]
  },
  {
   "cell_type": "code",
   "execution_count": 24,
   "metadata": {},
   "outputs": [
    {
     "name": "stdout",
     "output_type": "stream",
     "text": [
      "People Missing Data Percentage:\n",
      " PERSON_ID                 0.000000\n",
      "PERSON_TYPE               0.000273\n",
      "CRASH_RECORD_ID           0.000273\n",
      "VEHICLE_ID                1.963397\n",
      "CRASH_DATE                0.000341\n",
      "SEAT_NO                  79.609952\n",
      "CITY                     26.952338\n",
      "STATE                    25.981682\n",
      "ZIPCODE                  33.243607\n",
      "SEX                       1.566683\n",
      "AGE                      29.051245\n",
      "DRIVERS_LICENSE_STATE    41.277217\n",
      "DRIVERS_LICENSE_CLASS    50.194438\n",
      "SAFETY_EQUIPMENT          0.282813\n",
      "AIRBAG_DEPLOYED           1.884872\n",
      "EJECTION                  1.206231\n",
      "INJURY_CLASSIFICATION     0.043898\n",
      "HOSPITAL                 82.652454\n",
      "EMS_AGENCY               89.177594\n",
      "EMS_RUN_NO               98.219146\n",
      "DRIVER_ACTION            20.571637\n",
      "DRIVER_VISION            20.599994\n",
      "PHYSICAL_CONDITION       20.516152\n",
      "PEDPEDAL_ACTION          98.142053\n",
      "PEDPEDAL_VISIBILITY      98.146074\n",
      "PEDPEDAL_LOCATION        98.142393\n",
      "BAC_RESULT               20.502315\n",
      "BAC_RESULT VALUE         99.879009\n",
      "CELL_PHONE_USE           99.921134\n",
      "dtype: float64\n"
     ]
    }
   ],
   "source": [
    "people_missing_percentage = (people.isnull().sum() / len(people)) * 100\n",
    "print(\"People Missing Data Percentage:\\n\", people_missing_percentage)"
   ]
  },
  {
   "cell_type": "code",
   "execution_count": 25,
   "metadata": {},
   "outputs": [
    {
     "name": "stdout",
     "output_type": "stream",
     "text": [
      "Vehicles Missing Data Percentage:\n",
      " CRASH_UNIT_ID               0.000000\n",
      "CRASH_RECORD_ID             0.000000\n",
      "CRASH_DATE                  0.000000\n",
      "UNIT_NO                     0.000000\n",
      "UNIT_TYPE                   0.125163\n",
      "                             ...    \n",
      "CARGO_BODY_TYPE            99.199955\n",
      "LOAD_TYPE                  99.235254\n",
      "HAZMAT_OUT_OF_SERVICE_I    99.301207\n",
      "MCS_OUT_OF_SERVICE_I       99.287608\n",
      "HAZMAT_CLASS               99.935577\n",
      "Length: 71, dtype: float64\n"
     ]
    }
   ],
   "source": [
    "vehicles_missing_percentage = (vehicles.isnull().sum() / len(vehicles)) * 100\n",
    "print(\"Vehicles Missing Data Percentage:\\n\", vehicles_missing_percentage)"
   ]
  }
 ],
 "metadata": {
  "kernelspec": {
   "display_name": "learn-env",
   "language": "python",
   "name": "python3"
  },
  "language_info": {
   "codemirror_mode": {
    "name": "ipython",
    "version": 3
   },
   "file_extension": ".py",
   "mimetype": "text/x-python",
   "name": "python",
   "nbconvert_exporter": "python",
   "pygments_lexer": "ipython3",
   "version": "3.8.5"
  }
 },
 "nbformat": 4,
 "nbformat_minor": 2
}
